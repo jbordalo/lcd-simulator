{
 "cells": [
  {
   "cell_type": "code",
   "execution_count": 69,
   "metadata": {},
   "outputs": [],
   "source": [
    "from PIL import Image, ImageDraw, ImageFont\n",
    "import IPython.display as display\n",
    "\n",
    "w=128\n",
    "h=160"
   ]
  },
  {
   "cell_type": "code",
   "execution_count": 70,
   "metadata": {},
   "outputs": [],
   "source": [
    "TOP_LEFT=(0,0)\n",
    "TOP_RIGHT=(w-1, 0)\n",
    "BOTTOM_LEFT=(0, h-1)\n",
    "BOTTOM_RIGHT=(w-1, h-1)\n",
    "\n",
    "WHITE=(255,255,255)\n",
    "BLACK=(0,0,0)\n",
    "RED=(255,0,0)\n",
    "BLUE=(0,0,255)\n",
    "GREEN=(0,255,0)"
   ]
  },
  {
   "cell_type": "code",
   "execution_count": 108,
   "metadata": {},
   "outputs": [],
   "source": [
    "class TFT_LCD:\n",
    "    def __init__(self, width: int, height: int):\n",
    "        self.width = width\n",
    "        self.height = height\n",
    "        self.fill_screen('white')\n",
    "        self.cursor_x = 0\n",
    "        self.cursor_y = 0\n",
    "        self.font = ImageFont.load_default()\n",
    "        self.font_size = 1\n",
    "\n",
    "\n",
    "    def show(self):\n",
    "        border_size = 4\n",
    "        border_color = (255, 0, 0)\n",
    "        bordered_img = Image.new(\"RGB\", (self.width + 2 * border_size, self.height + 2 * border_size), border_color)\n",
    "\n",
    "        bordered_img.paste(self.screen, (border_size, border_size))\n",
    "\n",
    "        display.display(bordered_img)\n",
    "\n",
    "\n",
    "    def fill_screen(self, color: tuple):\n",
    "        self.screen = Image.new(\"RGB\", (self.width, self.height), color)\n",
    "\n",
    "\n",
    "    def draw_pixel(self, coord: tuple, color: tuple|str):\n",
    "        if 0 <= coord[0] < self.width and 0 <= coord[1] < self.height:\n",
    "            self.screen.putpixel(coord, color)\n",
    "\n",
    "\n",
    "    def draw_line(self, start: tuple, end: tuple, color: tuple):\n",
    "        draw = ImageDraw.Draw(self.screen)\n",
    "        draw.line([start, end], fill=color)\n",
    "\n",
    "\n",
    "    def set_cursor(self, x: int, y: int) -> None:\n",
    "        self.cursor_x = x\n",
    "        self.cursor_y = y\n",
    "\n",
    "\n",
    "    def set_font(self, font_path):\n",
    "        self.font = ImageFont.truetype(font_path, self.font_size)\n",
    "\n",
    "\n",
    "    def set_font_size(self, font_size: int):\n",
    "        self.font_size = font_size\n",
    "\n",
    "\n",
    "    def draw_text(self, text: str, color: tuple) -> None:\n",
    "        draw = ImageDraw.Draw(self.screen)\n",
    "        draw.text((self.cursor_x, self.cursor_y), text, font=self.font, fill=color)\n",
    "\n",
    "\n",
    "    def set_rotation(self, angle: int):\n",
    "        angle = [0, 90, 180, 270][angle]\n",
    "        self.screen = self.screen.rotate(angle, expand=True)\n",
    "\n",
    "        if angle in [90, 270]:\n",
    "            self.width, self.height = self.height, self.width\n"
   ]
  },
  {
   "cell_type": "code",
   "execution_count": null,
   "metadata": {},
   "outputs": [
    {
     "data": {
      "image/jpeg": "[encoded data removed]",
      "image/png": "[encoded data removed]",
      "text/plain": [
       "<PIL.Image.Image image mode=RGB size=136x168>"
      ]
     },
     "metadata": {},
     "output_type": "display_data"
    }
   ],
   "source": [
    "lcd = TFT_LCD(w,h)\n",
    "\n",
    "lcd.fill_screen(BLACK)\n",
    "\n",
    "lcd.set_rotation(1)\n",
    "\n",
    "lcd.draw_line((10, 10), (lcd.width-10, 10), BLUE)\n",
    "lcd.draw_line((10, lcd.height-10), (lcd.width-10, lcd.height-10), BLUE)\n",
    "\n",
    "lcd.draw_line((10, 10), (10, lcd.height-10), BLUE)\n",
    "lcd.draw_line((lcd.width-10, 10), (lcd.width-10, lcd.height-10), BLUE)\n",
    "\n",
    "lcd.set_font_size(16)\n",
    "lcd.set_font(\"Arial.ttf\")\n",
    "\n",
    "lcd.set_cursor(25,30)\n",
    "lcd.draw_text(\"Hello, World\", WHITE)\n",
    "lcd.set_cursor(25,50)\n",
    "lcd.draw_text(\"I'm an LCD\", WHITE)\n",
    "\n",
    "lcd.show()"
   ]
  },
  {
   "cell_type": "code",
   "execution_count": null,
   "metadata": {},
   "outputs": [],
   "source": []
  }
 ],
 "metadata": {
  "kernelspec": {
   "display_name": "notebook-env",
   "language": "python",
   "name": "python3"
  },
  "language_info": {
   "codemirror_mode": {
    "name": "ipython",
    "version": 3
   },
   "file_extension": ".py",
   "mimetype": "text/x-python",
   "name": "python",
   "nbconvert_exporter": "python",
   "pygments_lexer": "ipython3",
   "version": "3.11.9"
  }
 },
 "nbformat": 4,
 "nbformat_minor": 2
}
